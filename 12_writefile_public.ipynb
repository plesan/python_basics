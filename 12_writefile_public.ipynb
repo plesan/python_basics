{
 "cells": [
  {
   "cell_type": "code",
   "execution_count": 1,
   "metadata": {},
   "outputs": [],
   "source": [
    "# write line to file\n",
    "\n",
    "with open('/Users/phuong/MainFolder/projects_github/data/example2.txt', 'w') as writefile:\n",
    "    writefile.write(\"This is line A\\n\")"
   ]
  },
  {
   "cell_type": "code",
   "execution_count": 2,
   "metadata": {},
   "outputs": [
    {
     "name": "stdout",
     "output_type": "stream",
     "text": [
      "This is line A\n"
     ]
    }
   ],
   "source": [
    "# read the file to see if it works\n",
    "with open(\"/Users/phuong/MainFolder/projects_github/data/example2.txt\") as f:\n",
    "    FileContent = f.read()\n",
    "    print(FileContent)"
   ]
  },
  {
   "cell_type": "code",
   "execution_count": 5,
   "metadata": {},
   "outputs": [],
   "source": [
    "# write new line to a file\n",
    "with open('/Users/phuong/MainFolder/projects_github/data/example2.txt', 'a') as f3:\n",
    "    f3.write(\"this is line C\")"
   ]
  },
  {
   "cell_type": "code",
   "execution_count": 7,
   "metadata": {},
   "outputs": [
    {
     "name": "stdout",
     "output_type": "stream",
     "text": [
      "This is line Athis is line C\n"
     ]
    }
   ],
   "source": [
    "# verify if the new line is in the text file\n",
    "\n",
    "with open(\"/Users/phuong/MainFolder/projects_github/data/example2.txt\", \"r\") as f4:\n",
    "    print(f4.read())"
   ]
  },
  {
   "cell_type": "code",
   "execution_count": 8,
   "metadata": {},
   "outputs": [],
   "source": [
    "# copy file to another\n",
    "with open('/Users/phuong/MainFolder/projects_github/data/example2.txt', \"r\") as fileread:\n",
    "    with open('/Users/phuong/MainFolder/projects_github/data/example3.txt', \"w\") as filewrite:\n",
    "        for line in fileread:\n",
    "            filewrite.write(line)\n",
    "        "
   ]
  },
  {
   "cell_type": "code",
   "execution_count": 9,
   "metadata": {},
   "outputs": [
    {
     "name": "stdout",
     "output_type": "stream",
     "text": [
      "This is line Athis is line C\n"
     ]
    }
   ],
   "source": [
    "with open('/Users/phuong/MainFolder/projects_github/data/example3.txt', \"r\") as f5:\n",
    "    print(f5.read())"
   ]
  },
  {
   "cell_type": "code",
   "execution_count": null,
   "metadata": {},
   "outputs": [],
   "source": []
  }
 ],
 "metadata": {
  "kernelspec": {
   "display_name": "Python 3",
   "language": "python",
   "name": "python3"
  },
  "language_info": {
   "codemirror_mode": {
    "name": "ipython",
    "version": 3
   },
   "file_extension": ".py",
   "mimetype": "text/x-python",
   "name": "python",
   "nbconvert_exporter": "python",
   "pygments_lexer": "ipython3",
   "version": "3.7.4"
  }
 },
 "nbformat": 4,
 "nbformat_minor": 2
}
