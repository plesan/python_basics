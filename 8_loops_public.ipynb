{
 "cells": [
  {
   "cell_type": "code",
   "execution_count": 3,
   "metadata": {},
   "outputs": [
    {
     "name": "stdout",
     "output_type": "stream",
     "text": [
      "1982\n",
      "1980\n",
      "1978\n"
     ]
    }
   ],
   "source": [
    "# loop examples\n",
    "dates = [1982, 1980, 1978]\n",
    "N = len(dates)\n",
    "N\n",
    "\n",
    "for i in range(N):\n",
    "    print(dates[i])"
   ]
  },
  {
   "cell_type": "code",
   "execution_count": 4,
   "metadata": {},
   "outputs": [
    {
     "name": "stdout",
     "output_type": "stream",
     "text": [
      "0\n",
      "1\n",
      "2\n",
      "3\n",
      "4\n",
      "5\n",
      "6\n",
      "7\n"
     ]
    }
   ],
   "source": [
    "# examples of the loop\n",
    "for i in range(0,8):\n",
    "    print(i)"
   ]
  },
  {
   "cell_type": "code",
   "execution_count": 5,
   "metadata": {},
   "outputs": [
    {
     "name": "stdout",
     "output_type": "stream",
     "text": [
      "1982\n",
      "1980\n",
      "1978\n"
     ]
    }
   ],
   "source": [
    "# examples of the loop\n",
    "for year in dates:\n",
    "    print(year)"
   ]
  },
  {
   "cell_type": "code",
   "execution_count": 8,
   "metadata": {},
   "outputs": [
    {
     "name": "stdout",
     "output_type": "stream",
     "text": [
      "Before square 0 is red\n",
      "After square 0 is weight\n",
      "Before square 1 is yellow\n",
      "After square 1 is weight\n",
      "Before square 2 is green\n",
      "After square 2 is weight\n",
      "Before square 3 is purple\n",
      "After square 3 is weight\n",
      "Before square 4 is blue\n",
      "After square 4 is weight\n"
     ]
    }
   ],
   "source": [
    "# use for loop to change the element in list\n",
    "squares = ['red', 'yellow', 'green', 'purple', 'blue']\n",
    "\n",
    "for i in range(0,5):\n",
    "    print(\"Before square\", i, 'is', squares[i])\n",
    "    squares[i] = \"weight\"\n",
    "    print(\"After square\", i, 'is', squares[i])"
   ]
  },
  {
   "cell_type": "code",
   "execution_count": 9,
   "metadata": {},
   "outputs": [
    {
     "name": "stdout",
     "output_type": "stream",
     "text": [
      "0\n",
      "1\n",
      "2\n",
      "3\n",
      "4\n",
      "5\n",
      "6\n",
      "7\n",
      "8\n",
      "9\n"
     ]
    }
   ],
   "source": [
    "for i in range(0,10):\n",
    "    print(i)"
   ]
  },
  {
   "cell_type": "code",
   "execution_count": 14,
   "metadata": {},
   "outputs": [
    {
     "name": "stdout",
     "output_type": "stream",
     "text": [
      "0 is orange\n",
      "1 is ananas\n",
      "2 is banana\n",
      "3 is pomme\n"
     ]
    }
   ],
   "source": [
    "fruits = ['orange', 'ananas', 'banana', 'pomme']\n",
    "N = len(fruits)\n",
    "for i in range(N):\n",
    "    print(i, 'is', fruits[i])"
   ]
  },
  {
   "cell_type": "code",
   "execution_count": 16,
   "metadata": {},
   "outputs": [
    {
     "name": "stdout",
     "output_type": "stream",
     "text": [
      "0 red\n",
      "1 yellow\n",
      "2 purple\n",
      "3 blue\n"
     ]
    }
   ],
   "source": [
    "# loop through the list and iterate on both index and element value\n",
    "\n",
    "squares=['red', 'yellow', 'purple', 'blue']\n",
    "for i, square in enumerate(squares):\n",
    "    print(i, square)"
   ]
  },
  {
   "cell_type": "code",
   "execution_count": null,
   "metadata": {},
   "outputs": [],
   "source": [
    "dates2 = [1980, 1979, 1978, 1977, 1973]\n",
    "for i in range(len(dates2)):\n",
    "    print(dates2[i])"
   ]
  },
  {
   "cell_type": "code",
   "execution_count": null,
   "metadata": {},
   "outputs": [],
   "source": [
    "# while loop \n",
    "\n",
    "dates = [1980, 1979, 1978, 1977, 9173]\n",
    "i = 0\n",
    "year = 0\n",
    "\n",
    "for i in range(len(dates)):\n",
    "    print(dates[i])\n",
    "\n",
    "while(year != 1973):\n",
    "    year = dates[i]\n",
    "    i = i+1\n",
    "    print(year)\n",
    "\n",
    "print(\"it took\", i, \"repetitions to get out of loop.\")"
   ]
  },
  {
   "cell_type": "code",
   "execution_count": null,
   "metadata": {},
   "outputs": [],
   "source": [
    "dates = [1980, 1979, 1978, 1977, 1973]\n",
    "i = 0\n",
    "year = 0\n",
    "\n",
    "for i in range(len(dates)):\n",
    "    print(dates[i])"
   ]
  },
  {
   "cell_type": "code",
   "execution_count": null,
   "metadata": {},
   "outputs": [],
   "source": []
  },
  {
   "cell_type": "code",
   "execution_count": null,
   "metadata": {},
   "outputs": [],
   "source": []
  },
  {
   "cell_type": "code",
   "execution_count": null,
   "metadata": {},
   "outputs": [],
   "source": []
  }
 ],
 "metadata": {
  "kernelspec": {
   "display_name": "Python 3",
   "language": "python",
   "name": "python3"
  },
  "language_info": {
   "codemirror_mode": {
    "name": "ipython",
    "version": 3
   },
   "file_extension": ".py",
   "mimetype": "text/x-python",
   "name": "python",
   "nbconvert_exporter": "python",
   "pygments_lexer": "ipython3",
   "version": "3.7.4"
  }
 },
 "nbformat": 4,
 "nbformat_minor": 2
}
